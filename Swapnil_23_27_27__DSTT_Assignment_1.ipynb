{
  "nbformat": 4,
  "nbformat_minor": 0,
  "metadata": {
    "colab": {
      "provenance": [],
      "authorship_tag": "ABX9TyPVNtu6lOkiKUkxu2rEtx9E",
      "include_colab_link": true
    },
    "kernelspec": {
      "name": "python3",
      "display_name": "Python 3"
    },
    "language_info": {
      "name": "python"
    }
  },
  "cells": [
    {
      "cell_type": "markdown",
      "metadata": {
        "id": "view-in-github",
        "colab_type": "text"
      },
      "source": [
        "<a href=\"https://colab.research.google.com/github/swapnil-mergal/Python2023practice/blob/main/Swapnil_23_27_27__DSTT_Assignment_1.ipynb\" target=\"_parent\"><img src=\"https://colab.research.google.com/assets/colab-badge.svg\" alt=\"Open In Colab\"/></a>"
      ]
    },
    {
      "cell_type": "markdown",
      "source": [
        "Write a Python program to implement a matrix multiplication function. Your function\n",
        "should take two 2D lists (matrices) as input and return their product. Ensure that the\n",
        "matrices are compatible for multiplication (i.e., the number of columns in the first matrix\n",
        "should match the number of rows in the second matrix).\n",
        "matrix1 = [[1, 2], [3, 4]]\n",
        "matrix2 = [[5, 6], [7, 8]]\n",
        "result = [[19, 22], [43, 50]]"
      ],
      "metadata": {
        "id": "jEs_ZrcoA96Y"
      }
    },
    {
      "cell_type": "code",
      "source": [
        "def matrix_multiplication(matrix1, matrix2):\n",
        "    result = [[0 for _ in range(len(matrix2[0]))] for _ in range(len(matrix1))]\n",
        "\n",
        "    for i in range(len(matrix1)):\n",
        "        for j in range(len(matrix2[0])):\n",
        "            for k in range(len(matrix2)):\n",
        "                result[i][j] += matrix1[i][k] * matrix2[k][j]\n",
        "\n",
        "    return result\n",
        "\n",
        "matrix1 = [[1, 2], [3, 4]]\n",
        "matrix2 = [[5, 6], [7, 8]]\n",
        "result = matrix_multiplication(matrix1, matrix2)\n",
        "print(result)  # Output: [[19, 22], [43, 50]]\n"
      ],
      "metadata": {
        "colab": {
          "base_uri": "https://localhost:8080/",
          "height": 0
        },
        "id": "A0UQ1HhABAgM",
        "outputId": "7721fc8e-77fe-471c-a70b-8d8575a94fb1"
      },
      "execution_count": 1,
      "outputs": [
        {
          "output_type": "stream",
          "name": "stdout",
          "text": [
            "[[19, 22], [43, 50]]\n"
          ]
        }
      ]
    },
    {
      "cell_type": "markdown",
      "source": [
        "Write a Python program to flatten a nested list. The input will be a list that may\n",
        "contain other lists, and the output should be a single list with all elements in a single\n",
        "sequence. You cannot use built-in functions like itertools.chain or sum.\n",
        "nestedlist = [1, [2, [3, 4], 5], 6]\n",
        "flattenedlist = [1, 2, 3, 4, 5, 6]"
      ],
      "metadata": {
        "id": "h148UcF8BNEj"
      }
    },
    {
      "cell_type": "code",
      "source": [
        "def flatten_list(nested_list):\n",
        "    flattened = []\n",
        "\n",
        "    def flatten(sublist):\n",
        "        for item in sublist:\n",
        "            if isinstance(item, list):\n",
        "                flatten(item)\n",
        "            else:\n",
        "                flattened.append(item)\n",
        "\n",
        "    flatten(nested_list)\n",
        "    return flattened\n",
        "\n",
        "nested_list = [1, [2, [3, 4], 5], 6]\n",
        "flattened_list = flatten_list(nested_list)\n",
        "print(flattened_list)  # Output: [1, 2, 3, 4, 5, 6]\n"
      ],
      "metadata": {
        "colab": {
          "base_uri": "https://localhost:8080/",
          "height": 0
        },
        "id": "_aev0DxCBGsH",
        "outputId": "f8f38440-e21a-4ca4-aa2b-9ac1ccec9996"
      },
      "execution_count": 2,
      "outputs": [
        {
          "output_type": "stream",
          "name": "stdout",
          "text": [
            "[1, 2, 3, 4, 5, 6]\n"
          ]
        }
      ]
    },
    {
      "cell_type": "markdown",
      "source": [
        "Write a Python program that simulates a simple text-based inventory management system.\n",
        "The program should allow the user to perform the following actions:\n",
        "(a) Add an item to the inventory (item name and quantity).\n",
        "(b) Remove an item from the inventory.\n",
        "(c) Update the quantity of an existing item.\n",
        "(d) Display the current inventory in alphabetical order.\n",
        "The inventory should be stored using a dictionary where keys are item names and values\n",
        "are quantities. Provide a menu for the user to interact with, and implement input\n",
        "validation to handle incorrect choices or non-existing items."
      ],
      "metadata": {
        "id": "x2P4eAZyBrTD"
      }
    },
    {
      "cell_type": "code",
      "source": [
        "def display_menu():\n",
        "    print(\"1. Add item\")\n",
        "    print(\"2. Remove item\")\n",
        "    print(\"3. Update quantity\")\n",
        "    print(\"4. Display inventory\")\n",
        "    print(\"5. Exit\")\n",
        "\n",
        "def add_item(inventory):\n",
        "    item = input(\"Enter item name: \").strip().lower()\n",
        "    quantity = int(input(f\"Enter quantity for {item}: \"))\n",
        "    inventory[item] = inventory.get(item, 0) + quantity\n",
        "\n",
        "def remove_item(inventory):\n",
        "    item = input(\"Enter item name to remove: \").strip().lower()\n",
        "    if item in inventory:\n",
        "        del inventory[item]\n",
        "    else:\n",
        "        print(f\"{item} not found in inventory\")\n",
        "\n",
        "def update_item(inventory):\n",
        "    item = input(\"Enter item name: \").strip().lower()\n",
        "    if item in inventory:\n",
        "        quantity = int(input(f\"Enter new quantity for {item}: \"))\n",
        "        inventory[item] = quantity\n",
        "    else:\n",
        "        print(f\"{item} not found in inventory\")\n",
        "\n",
        "def display_inventory(inventory):\n",
        "    for item, quantity in sorted(inventory.items()):\n",
        "        print(f\"{item}: {quantity}\")\n",
        "\n",
        "def main():\n",
        "    inventory = {}\n",
        "    while True:\n",
        "        display_menu()\n",
        "        choice = input(\"Enter your choice: \").strip()\n",
        "        if choice == '1':\n",
        "            add_item(inventory)\n",
        "        elif choice == '2':\n",
        "            remove_item(inventory)\n",
        "        elif choice == '3':\n",
        "            update_item(inventory)\n",
        "        elif choice == '4':\n",
        "            display_inventory(inventory)\n",
        "        elif choice == '5':\n",
        "            break\n",
        "        else:\n",
        "            print(\"Invalid choice, please try again.\")\n",
        "\n",
        "main()\n"
      ],
      "metadata": {
        "colab": {
          "base_uri": "https://localhost:8080/",
          "height": 0
        },
        "id": "uq5yLXL8BRod",
        "outputId": "41d40a0e-17ee-4872-e091-62009a314e08"
      },
      "execution_count": 4,
      "outputs": [
        {
          "name": "stdout",
          "output_type": "stream",
          "text": [
            "1. Add item\n",
            "2. Remove item\n",
            "3. Update quantity\n",
            "4. Display inventory\n",
            "5. Exit\n",
            "Enter your choice: 1\n",
            "Enter item name: apple\n",
            "Enter quantity for apple: 10\n",
            "1. Add item\n",
            "2. Remove item\n",
            "3. Update quantity\n",
            "4. Display inventory\n",
            "5. Exit\n",
            "Enter your choice: 1\n",
            "Enter item name: banana\n",
            "Enter quantity for banana: 5\n",
            "1. Add item\n",
            "2. Remove item\n",
            "3. Update quantity\n",
            "4. Display inventory\n",
            "5. Exit\n",
            "Enter your choice: 4\n",
            "apple: 10\n",
            "banana: 5\n",
            "1. Add item\n",
            "2. Remove item\n",
            "3. Update quantity\n",
            "4. Display inventory\n",
            "5. Exit\n",
            "Enter your choice: 3\n",
            "Enter item name: apple\n",
            "Enter new quantity for apple: 15\n",
            "1. Add item\n",
            "2. Remove item\n",
            "3. Update quantity\n",
            "4. Display inventory\n",
            "5. Exit\n",
            "Enter your choice: 15\n",
            "Invalid choice, please try again.\n",
            "1. Add item\n",
            "2. Remove item\n",
            "3. Update quantity\n",
            "4. Display inventory\n",
            "5. Exit\n",
            "Enter your choice: 2\n",
            "Enter item name to remove: banana\n",
            "1. Add item\n",
            "2. Remove item\n",
            "3. Update quantity\n",
            "4. Display inventory\n",
            "5. Exit\n",
            "Enter your choice: 4\n",
            "apple: 15\n",
            "1. Add item\n",
            "2. Remove item\n",
            "3. Update quantity\n",
            "4. Display inventory\n",
            "5. Exit\n",
            "Enter your choice: 5\n"
          ]
        }
      ]
    },
    {
      "cell_type": "markdown",
      "source": [
        "Write a Python function to find the longest increasing subsequence in a given list of\n",
        "integers. An increasing subsequence is a sequence where each number is smaller than\n",
        "the next number in the subsequence, and the numbers are not necessarily contiguous in\n",
        "the original list.\n",
        "nums = [10, 22, 9, 33, 21, 50, 41, 60, 80]\n",
        "Longest increasing subsequence: [10, 22, 33, 50, 60, 80]"
      ],
      "metadata": {
        "id": "BBg1PV47DKF5"
      }
    },
    {
      "cell_type": "code",
      "source": [
        "def longest_increasing_subsequence(nums):\n",
        "    if not nums:\n",
        "        return []\n",
        "\n",
        "    lis = [1] * len(nums)\n",
        "    for i in range(1, len(nums)):\n",
        "        for j in range(i):\n",
        "            if nums[i] > nums[j]:\n",
        "                lis[i] = max(lis[i], lis[j] + 1)\n",
        "\n",
        "    max_len = max(lis)\n",
        "    subsequence = []\n",
        "    for i in range(len(nums) - 1, -1, -1):\n",
        "        if lis[i] == max_len:\n",
        "            subsequence.append(nums[i])\n",
        "            max_len -= 1\n",
        "\n",
        "    return subsequence[::-1]\n",
        "\n",
        "nums = [10, 22, 9, 33, 21, 50, 41, 60, 80]\n",
        "lis = longest_increasing_subsequence(nums)\n",
        "print(lis)  # Output: [10, 22, 33, 50, 60, 80]\n"
      ],
      "metadata": {
        "colab": {
          "base_uri": "https://localhost:8080/",
          "height": 0
        },
        "id": "Gl5h-OooBZGW",
        "outputId": "323da992-3c56-4440-dfd2-41d49aa6ff83"
      },
      "execution_count": 5,
      "outputs": [
        {
          "output_type": "stream",
          "name": "stdout",
          "text": [
            "[10, 22, 33, 41, 60, 80]\n"
          ]
        }
      ]
    },
    {
      "cell_type": "markdown",
      "source": [
        "You are given a list of words and a target word. Write a Python program that uses\n",
        "backtracking to find all the possible anagrams of the target word that can be formed\n",
        "from the words in the list. You can use each word from the list at most once.\n",
        "wordlist = [’listen’, ’silent’, ’enlist’, ’rat’, ’tar’, ’art’]\n",
        "target = ’silent’\n",
        "Output:\n",
        "Possible anagrams: [’listen’, ’silent’, ’enlist’]"
      ],
      "metadata": {
        "id": "xvpR0s_gDYva"
      }
    },
    {
      "cell_type": "code",
      "source": [
        "from itertools import permutations\n",
        "\n",
        "def find_anagrams(wordlist, target):\n",
        "    target_sorted = sorted(target)\n",
        "    anagrams = []\n",
        "\n",
        "    for word in wordlist:\n",
        "        if sorted(word) == target_sorted:\n",
        "            anagrams.append(word)\n",
        "\n",
        "    return anagrams\n",
        "\n",
        "wordlist = ['listen', 'silent', 'enlist', 'rat', 'tar', 'art']\n",
        "target = 'silent'\n",
        "anagrams = find_anagrams(wordlist, target)\n",
        "print(\"Possible anagrams:\", anagrams)  # Output: ['listen', 'silent', 'enlist']\n"
      ],
      "metadata": {
        "colab": {
          "base_uri": "https://localhost:8080/",
          "height": 0
        },
        "id": "-RBvr_ZODUWo",
        "outputId": "0385693b-5fce-4493-9e09-bacb517cd061"
      },
      "execution_count": 6,
      "outputs": [
        {
          "output_type": "stream",
          "name": "stdout",
          "text": [
            "Possible anagrams: ['listen', 'silent', 'enlist']\n"
          ]
        }
      ]
    },
    {
      "cell_type": "markdown",
      "source": [
        "# optional question\n"
      ],
      "metadata": {
        "id": "y9tAC_QrDdLR"
      }
    },
    {
      "cell_type": "markdown",
      "source": [
        "Write a Python program to solve the ”0/1 Knapsack Problem” using dynamic programming.\n",
        "Given a list of items, each with a weight and a value, determine the maximum\n",
        "value that can be put in a knapsack of capacity W. The function should return the\n",
        "maximum value and the items chosen to achieve that value.\n",
        "items = [\n",
        "”name”: ”item1”, ”weight”: 2, ”value”: 3,\n",
        "”name”: ”item2”, ”weight”: 3, ”value”: 4,\n",
        "”name”: ”item3”, ”weight”: 4, ”value”: 5,\n",
        "”name”: ”item4”, ”weight”: 5, ”value”: 6\n",
        "]\n",
        "capacity = 5\n",
        "Output:\n",
        "Maximum value: 7\n",
        "Items chosen: item2\n",
        "Page"
      ],
      "metadata": {
        "id": "hHA5KJI-Dh1m"
      }
    },
    {
      "cell_type": "code",
      "source": [
        "from itertools import permutations\n",
        "\n",
        "def find_anagrams(wordlist, target):\n",
        "    target_sorted = sorted(target)\n",
        "    anagrams = []\n",
        "\n",
        "    for word in wordlist:\n",
        "        if sorted(word) == target_sorted:\n",
        "            anagrams.append(word)\n",
        "\n",
        "    return anagrams\n",
        "\n",
        "wordlist = ['listen', 'silent', 'enlist', 'rat', 'tar', 'art']\n",
        "target = 'silent'\n",
        "anagrams = find_anagrams(wordlist, target)\n",
        "print(\"Possible anagrams:\", anagrams)  # Output: ['listen', 'silent', 'enlist']\n"
      ],
      "metadata": {
        "colab": {
          "base_uri": "https://localhost:8080/",
          "height": 0
        },
        "id": "1a59dw4YDbkD",
        "outputId": "b6663ba6-5e33-4513-d299-dfa34be6ba56"
      },
      "execution_count": 7,
      "outputs": [
        {
          "output_type": "stream",
          "name": "stdout",
          "text": [
            "Possible anagrams: ['listen', 'silent', 'enlist']\n"
          ]
        }
      ]
    },
    {
      "cell_type": "code",
      "source": [],
      "metadata": {
        "id": "hoX_AsqpDoCI"
      },
      "execution_count": null,
      "outputs": []
    }
  ]
}