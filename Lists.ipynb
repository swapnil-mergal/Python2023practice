{
  "nbformat": 4,
  "nbformat_minor": 0,
  "metadata": {
    "colab": {
      "provenance": [],
      "include_colab_link": true
    },
    "kernelspec": {
      "name": "python3",
      "display_name": "Python 3"
    },
    "language_info": {
      "name": "python"
    }
  },
  "cells": [
    {
      "cell_type": "markdown",
      "metadata": {
        "id": "view-in-github",
        "colab_type": "text"
      },
      "source": [
        "<a href=\"https://colab.research.google.com/github/swapnil-mergal/Python2023practice/blob/main/Lists.ipynb\" target=\"_parent\"><img src=\"https://colab.research.google.com/assets/colab-badge.svg\" alt=\"Open In Colab\"/></a>"
      ]
    },
    {
      "cell_type": "code",
      "execution_count": 1,
      "metadata": {
        "colab": {
          "base_uri": "https://localhost:8080/"
        },
        "id": "JWTGoib0tocY",
        "outputId": "5fcaefab-47f6-4c1b-ba1e-7c16b372bf8d"
      },
      "outputs": [
        {
          "output_type": "stream",
          "name": "stdout",
          "text": [
            "['musa', 25, True, 45.678]\n",
            "4\n"
          ]
        }
      ],
      "source": [
        "my_list = [\"musa\", 25, True, 45.678]\n",
        "\n",
        "print(my_list)\n",
        "print(len(my_list))\n",
        "\n"
      ]
    },
    {
      "cell_type": "code",
      "source": [
        "for item in my_list:\n",
        "    print(item, end=' ')\n",
        "print()\n",
        "\n",
        "r = range(1, 10)\n",
        "print(r)\n",
        "print(list(r))\n",
        "\n"
      ],
      "metadata": {
        "colab": {
          "base_uri": "https://localhost:8080/"
        },
        "id": "dLp4Jku-trOc",
        "outputId": "5988b0c4-275f-4211-a5ad-be413302458b"
      },
      "execution_count": 2,
      "outputs": [
        {
          "output_type": "stream",
          "name": "stdout",
          "text": [
            "musa 25 True 45.678 \n",
            "range(1, 10)\n",
            "[1, 2, 3, 4, 5, 6, 7, 8, 9]\n"
          ]
        }
      ]
    },
    {
      "cell_type": "code",
      "source": [
        "colors = [\"purple\", \"teal\", \"magenta\", \"blue\"]\n",
        "\n",
        "# iterate using for-loop\n",
        "for color in colors:\n",
        "    print(color, end=' ')\n",
        "print()\n",
        "\n"
      ],
      "metadata": {
        "colab": {
          "base_uri": "https://localhost:8080/"
        },
        "id": "M-goT6sLtsYD",
        "outputId": "dc6f3f5d-541a-400d-d94a-9ce89da9f841"
      },
      "execution_count": 3,
      "outputs": [
        {
          "output_type": "stream",
          "name": "stdout",
          "text": [
            "purple teal magenta blue \n"
          ]
        }
      ]
    },
    {
      "cell_type": "code",
      "source": [
        "# iterate using while loop\n",
        "x = 0\n",
        "while x < len(colors):\n",
        "    print(colors[x], end=' ')\n",
        "    x += 1"
      ],
      "metadata": {
        "colab": {
          "base_uri": "https://localhost:8080/"
        },
        "id": "ZA1ODCZSttxz",
        "outputId": "64777d1b-562e-4668-87fd-51429b723daf"
      },
      "execution_count": 4,
      "outputs": [
        {
          "output_type": "stream",
          "name": "stdout",
          "text": [
            "purple teal magenta blue "
          ]
        }
      ]
    },
    {
      "cell_type": "code",
      "source": [],
      "metadata": {
        "id": "A4K4U_9StwTa"
      },
      "execution_count": 4,
      "outputs": []
    },
    {
      "cell_type": "markdown",
      "source": [
        "# append: add one item to the list\n",
        "# extend: add more than one item to the list\n",
        "# insert: add one item at a given position\n",
        "# clear: remove all items from the list\n",
        "# demo: remove last element or element in the given position\n",
        "# remove: remove the first appearance of a given **number**"
      ],
      "metadata": {
        "id": "4O10ooSvtzqt"
      }
    },
    {
      "cell_type": "code",
      "source": [
        "list = []\n",
        "list.append(70)\n",
        "list.append(16)\n",
        "list.append(37)\n",
        "print(list)"
      ],
      "metadata": {
        "colab": {
          "base_uri": "https://localhost:8080/"
        },
        "id": "GI9YXi3ht1QS",
        "outputId": "15f0a760-3056-4b04-88cf-98f788fb160f"
      },
      "execution_count": 5,
      "outputs": [
        {
          "output_type": "stream",
          "name": "stdout",
          "text": [
            "[70, 16, 37]\n"
          ]
        }
      ]
    },
    {
      "cell_type": "code",
      "source": [
        "list_one = [1, 2, 4]\n",
        "list_two = [5, 6, 7, 8]\n",
        "list_one.insert(2, 3)\n",
        "print(list_one)\n"
      ],
      "metadata": {
        "colab": {
          "base_uri": "https://localhost:8080/"
        },
        "id": "lus2BTvYt3qT",
        "outputId": "6dbacfc2-2da1-475d-ced0-743fbf51f254"
      },
      "execution_count": 6,
      "outputs": [
        {
          "output_type": "stream",
          "name": "stdout",
          "text": [
            "[1, 2, 3, 4]\n"
          ]
        }
      ]
    },
    {
      "cell_type": "code",
      "source": [
        "# list_one.append(list_two)\n",
        "list_one.extend(list_two)\n",
        "print(list_one)\n",
        "\n",
        "demo = list_two\n",
        "print(demo)\n",
        "demo.clear()\n",
        "print(demo)"
      ],
      "metadata": {
        "colab": {
          "base_uri": "https://localhost:8080/"
        },
        "id": "0d9n6mo7t5QT",
        "outputId": "e4519740-6f9d-417f-f5e0-6f5879e41732"
      },
      "execution_count": 7,
      "outputs": [
        {
          "output_type": "stream",
          "name": "stdout",
          "text": [
            "[1, 2, 3, 4, 5, 6, 7, 8]\n",
            "[5, 6, 7, 8]\n",
            "[]\n"
          ]
        }
      ]
    },
    {
      "cell_type": "code",
      "source": [
        "demo = list_one\n",
        "print(demo.pop())\n",
        "print(demo.pop(1))"
      ],
      "metadata": {
        "colab": {
          "base_uri": "https://localhost:8080/"
        },
        "id": "3lNMJjmOt7QT",
        "outputId": "7f8224a3-c0d6-4841-deab-91490d958faa"
      },
      "execution_count": 8,
      "outputs": [
        {
          "output_type": "stream",
          "name": "stdout",
          "text": [
            "8\n",
            "2\n"
          ]
        }
      ]
    },
    {
      "cell_type": "code",
      "source": [
        "nums = [1, 3, 4, 6, 5, 4]\n",
        "nums.remove(4)\n",
        "print(nums)"
      ],
      "metadata": {
        "colab": {
          "base_uri": "https://localhost:8080/"
        },
        "id": "0z4t4_WFt8wT",
        "outputId": "9268b331-4348-43d3-a31d-1c0f9f96c7e5"
      },
      "execution_count": 9,
      "outputs": [
        {
          "output_type": "stream",
          "name": "stdout",
          "text": [
            "[1, 3, 6, 5, 4]\n"
          ]
        }
      ]
    },
    {
      "cell_type": "code",
      "source": [],
      "metadata": {
        "id": "a0Oc7ZFPt-Sz"
      },
      "execution_count": 9,
      "outputs": []
    },
    {
      "cell_type": "markdown",
      "source": [
        "**List Methods**"
      ],
      "metadata": {
        "id": "FofBsld9uB-d"
      }
    },
    {
      "cell_type": "code",
      "source": [
        "numbers = [5, 9, 5, 6, 7, 5, 8, 8, 9, 10, 15]\n",
        "# index\n",
        "print(numbers.index(5))         # first appearance of 5 #0\n",
        "print(numbers.index(5, 3))      # first appearance of 5 after index 3 #5\n",
        "print(numbers.index(9, 6, 9))   # first appearance of 5 in between index 6 & 9 #8\n",
        "print()"
      ],
      "metadata": {
        "colab": {
          "base_uri": "https://localhost:8080/"
        },
        "id": "yjEqii72uH7D",
        "outputId": "5d0d97ea-b8b9-40e0-dc4d-abc9a9082eab"
      },
      "execution_count": 10,
      "outputs": [
        {
          "output_type": "stream",
          "name": "stdout",
          "text": [
            "0\n",
            "5\n",
            "8\n",
            "\n"
          ]
        }
      ]
    },
    {
      "cell_type": "code",
      "source": [
        "# count()\n",
        "print(numbers.count(5))     #3\n",
        "print(numbers.count(14))    #0\n",
        "print(numbers.count(8))     #2"
      ],
      "metadata": {
        "colab": {
          "base_uri": "https://localhost:8080/"
        },
        "id": "x_z841hguKPb",
        "outputId": "55607e2a-2b77-4093-b58f-d19064334a99"
      },
      "execution_count": 11,
      "outputs": [
        {
          "output_type": "stream",
          "name": "stdout",
          "text": [
            "3\n",
            "0\n",
            "2\n"
          ]
        }
      ]
    },
    {
      "cell_type": "code",
      "source": [
        "# reverse()\n",
        "numbers.reverse()\n",
        "print(\"Reversed: \")\n",
        "print(numbers)"
      ],
      "metadata": {
        "colab": {
          "base_uri": "https://localhost:8080/"
        },
        "id": "l9F4kORbuMIb",
        "outputId": "c48d145f-0c8a-4879-c37d-387a58dc6b88"
      },
      "execution_count": 12,
      "outputs": [
        {
          "output_type": "stream",
          "name": "stdout",
          "text": [
            "Reversed: \n",
            "[15, 10, 9, 8, 8, 5, 7, 6, 5, 9, 5]\n"
          ]
        }
      ]
    },
    {
      "cell_type": "code",
      "source": [
        "# sort()\n",
        "numbers.sort()\n",
        "print(\"Sorted: \")\n",
        "print(numbers)"
      ],
      "metadata": {
        "colab": {
          "base_uri": "https://localhost:8080/"
        },
        "id": "bH77i_tDuNTz",
        "outputId": "4beb31ae-1bd5-4d6e-cbe9-caebdfd2e3b8"
      },
      "execution_count": 13,
      "outputs": [
        {
          "output_type": "stream",
          "name": "stdout",
          "text": [
            "Sorted: \n",
            "[5, 5, 5, 6, 7, 8, 8, 9, 9, 10, 15]\n"
          ]
        }
      ]
    },
    {
      "cell_type": "code",
      "source": [],
      "metadata": {
        "id": "Y95tLhGduPXz"
      },
      "execution_count": 13,
      "outputs": []
    },
    {
      "cell_type": "markdown",
      "source": [
        "**Slicing a LIST**"
      ],
      "metadata": {
        "id": "VDOtxJKNuSil"
      }
    },
    {
      "cell_type": "code",
      "source": [
        "first_list = [1, 2, 3, 4, 5, 6]\n",
        "# exclusing counting\n",
        "print(first_list[3:])       # [4 5 6]\n",
        "print(first_list[:3])       # [1 2 3]\n",
        "print(first_list[2:5])      # [3 4 5]"
      ],
      "metadata": {
        "colab": {
          "base_uri": "https://localhost:8080/"
        },
        "id": "uguory6DuV3L",
        "outputId": "efb084e0-d8ac-41cd-f6a8-3732b60a679b"
      },
      "execution_count": 14,
      "outputs": [
        {
          "output_type": "stream",
          "name": "stdout",
          "text": [
            "[4, 5, 6]\n",
            "[1, 2, 3]\n",
            "[3, 4, 5]\n"
          ]
        }
      ]
    },
    {
      "cell_type": "code",
      "source": [
        "# [start:end:step]\n",
        "print(first_list[20:])      # []\n",
        "print(first_list[1::2])     # [2 4 6]\n",
        "print(first_list[1:6:2])    # [2 4 6]\n",
        "print(first_list[::2])      # [1 3 5]\n"
      ],
      "metadata": {
        "id": "s0lKbF5ruXsD",
        "outputId": "bd9fe0b7-d77f-42fd-86a8-aad81f7d4e7b",
        "colab": {
          "base_uri": "https://localhost:8080/"
        }
      },
      "execution_count": 15,
      "outputs": [
        {
          "output_type": "stream",
          "name": "stdout",
          "text": [
            "[]\n",
            "[2, 4, 6]\n",
            "[2, 4, 6]\n",
            "[1, 3, 5]\n"
          ]
        }
      ]
    },
    {
      "cell_type": "code",
      "source": [
        "print(first_list[1::-1])    # [2 1]\n",
        "print(first_list[:1:-1])    # [6 5 4 3]\n",
        "print(first_list[2::-1])    # [3 2 1]"
      ],
      "metadata": {
        "id": "6zXGVhe5uZjS",
        "outputId": "7a9bad4a-a9e1-4d12-f2df-e9576b6c6b28",
        "colab": {
          "base_uri": "https://localhost:8080/"
        }
      },
      "execution_count": 16,
      "outputs": [
        {
          "output_type": "stream",
          "name": "stdout",
          "text": [
            "[2, 1]\n",
            "[6, 5, 4, 3]\n",
            "[3, 2, 1]\n"
          ]
        }
      ]
    }
  ]
}