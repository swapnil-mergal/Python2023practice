{
  "nbformat": 4,
  "nbformat_minor": 0,
  "metadata": {
    "colab": {
      "provenance": [],
      "include_colab_link": true
    },
    "kernelspec": {
      "name": "python3",
      "display_name": "Python 3"
    },
    "language_info": {
      "name": "python"
    }
  },
  "cells": [
    {
      "cell_type": "markdown",
      "metadata": {
        "id": "view-in-github",
        "colab_type": "text"
      },
      "source": [
        "<a href=\"https://colab.research.google.com/github/swapnil-mergal/Python2023practice/blob/main/Dictionary.ipynb\" target=\"_parent\"><img src=\"https://colab.research.google.com/assets/colab-badge.svg\" alt=\"Open In Colab\"/></a>"
      ]
    },
    {
      "cell_type": "code",
      "execution_count": 1,
      "metadata": {
        "id": "ZI4qABFQxcKO"
      },
      "outputs": [],
      "source": [
        "person = {\n",
        "    'first_name': \"Humayun\",\n",
        "    'last_name': \"Kabir\",\n",
        "    'age': 25,\n",
        "    'sex': \"Male\",\n",
        "    'married': False\n",
        "}\n",
        "\n"
      ]
    },
    {
      "cell_type": "code",
      "source": [
        "print(person['first_name'])\n",
        "print(person['sex'])\n",
        "\n"
      ],
      "metadata": {
        "colab": {
          "base_uri": "https://localhost:8080/"
        },
        "id": "AGMV5odDxgJ8",
        "outputId": "1cb468cd-13f3-4f0a-fb33-d1e729de115b"
      },
      "execution_count": 2,
      "outputs": [
        {
          "output_type": "stream",
          "name": "stdout",
          "text": [
            "Humayun\n",
            "Male\n"
          ]
        }
      ]
    },
    {
      "cell_type": "code",
      "source": [
        "for key in person.keys():\n",
        "    print(key)\n",
        "\n"
      ],
      "metadata": {
        "colab": {
          "base_uri": "https://localhost:8080/"
        },
        "id": "0lGjLHSlxhUL",
        "outputId": "739411c4-17a5-4902-d61d-e6186027d472"
      },
      "execution_count": 3,
      "outputs": [
        {
          "output_type": "stream",
          "name": "stdout",
          "text": [
            "first_name\n",
            "last_name\n",
            "age\n",
            "sex\n",
            "married\n"
          ]
        }
      ]
    },
    {
      "cell_type": "code",
      "source": [
        "for value in person.values():\n",
        "    print(value)\n",
        "\n"
      ],
      "metadata": {
        "colab": {
          "base_uri": "https://localhost:8080/"
        },
        "id": "b1MOrvLbxiUr",
        "outputId": "a99cc818-b246-4fb8-c6ca-1772207600a3"
      },
      "execution_count": 4,
      "outputs": [
        {
          "output_type": "stream",
          "name": "stdout",
          "text": [
            "Humayun\n",
            "Kabir\n",
            "25\n",
            "Male\n",
            "False\n"
          ]
        }
      ]
    },
    {
      "cell_type": "code",
      "source": [
        "for key, value in person.items():\n",
        "    print(f\"{key} : {value}\")\n",
        "\n"
      ],
      "metadata": {
        "colab": {
          "base_uri": "https://localhost:8080/"
        },
        "id": "7kwqPB-Oxj7b",
        "outputId": "708ebb81-f7a7-41f0-a458-e0712e43ffb8"
      },
      "execution_count": 5,
      "outputs": [
        {
          "output_type": "stream",
          "name": "stdout",
          "text": [
            "first_name : Humayun\n",
            "last_name : Kabir\n",
            "age : 25\n",
            "sex : Male\n",
            "married : False\n"
          ]
        }
      ]
    },
    {
      "cell_type": "code",
      "source": [
        "if 'sex' in person.values():\n",
        "    print(\"Yes, it has!\")"
      ],
      "metadata": {
        "id": "V0lny-IJxld7"
      },
      "execution_count": 6,
      "outputs": []
    },
    {
      "cell_type": "code",
      "source": [
        "# copy: copy a dictionary\n",
        "individual = person.copy()\n",
        "print(individual)\n",
        "\n",
        "print(person is individual)\n",
        "print(person == individual)\n",
        "\n"
      ],
      "metadata": {
        "colab": {
          "base_uri": "https://localhost:8080/"
        },
        "id": "_Dej_kJFxmH7",
        "outputId": "648d65ec-9083-4d70-a3c4-68fc89e0797f"
      },
      "execution_count": 7,
      "outputs": [
        {
          "output_type": "stream",
          "name": "stdout",
          "text": [
            "{'first_name': 'Humayun', 'last_name': 'Kabir', 'age': 25, 'sex': 'Male', 'married': False}\n",
            "False\n",
            "True\n"
          ]
        }
      ]
    },
    {
      "cell_type": "code",
      "source": [
        "# clear: delete everything\n",
        "individual.clear()\n",
        "print(individual)\n",
        "\n",
        "# fromkeys\n",
        "new_user = {}.fromkeys(['name', 'score', 'email'], 'unknown')\n",
        "print(new_user)\n",
        "\n"
      ],
      "metadata": {
        "colab": {
          "base_uri": "https://localhost:8080/"
        },
        "id": "EGVYDCz9xw2T",
        "outputId": "21215489-a33c-4a30-c052-9cb972735b78"
      },
      "execution_count": 8,
      "outputs": [
        {
          "output_type": "stream",
          "name": "stdout",
          "text": [
            "{}\n",
            "{'name': 'unknown', 'score': 'unknown', 'email': 'unknown'}\n"
          ]
        }
      ]
    },
    {
      "cell_type": "code",
      "source": [
        "# get\n",
        "name = person.get('first_name') # returns value of the key\n",
        "email = person.get('email')     # doesn't exist: None\n",
        "print(email)\n",
        "\n"
      ],
      "metadata": {
        "colab": {
          "base_uri": "https://localhost:8080/"
        },
        "id": "kLIiTlzgxylT",
        "outputId": "f2f78ef9-561c-4cb5-cee1-62de3f5a9891"
      },
      "execution_count": 9,
      "outputs": [
        {
          "output_type": "stream",
          "name": "stdout",
          "text": [
            "None\n"
          ]
        }
      ]
    },
    {
      "cell_type": "code",
      "source": [
        "# pop\n",
        "person.pop('married')   # pop out the k-v pair of the given key\n",
        "print(person)\n"
      ],
      "metadata": {
        "colab": {
          "base_uri": "https://localhost:8080/"
        },
        "id": "Za9XdYGix1KC",
        "outputId": "b76e3a7c-5015-4d6c-cc37-a025e31c8889"
      },
      "execution_count": 10,
      "outputs": [
        {
          "output_type": "stream",
          "name": "stdout",
          "text": [
            "{'first_name': 'Humayun', 'last_name': 'Kabir', 'age': 25, 'sex': 'Male'}\n"
          ]
        }
      ]
    },
    {
      "cell_type": "code",
      "source": [
        "\n",
        "# popitem\n",
        "print(person.popitem())  # pop randomly one item\n",
        "print(person)\n"
      ],
      "metadata": {
        "colab": {
          "base_uri": "https://localhost:8080/"
        },
        "id": "lP7cfepYx2fD",
        "outputId": "93571d82-f8ea-4309-d4e0-5b08077fff44"
      },
      "execution_count": 11,
      "outputs": [
        {
          "output_type": "stream",
          "name": "stdout",
          "text": [
            "('sex', 'Male')\n",
            "{'first_name': 'Humayun', 'last_name': 'Kabir', 'age': 25}\n"
          ]
        }
      ]
    },
    {
      "cell_type": "code",
      "source": [
        "\n",
        "# update\n",
        "individual.update(person)\n",
        "print(individual)"
      ],
      "metadata": {
        "colab": {
          "base_uri": "https://localhost:8080/"
        },
        "id": "ULkZqI5Dx3rr",
        "outputId": "1efeefce-2fc0-4a9f-b002-4ac9d63f1fbb"
      },
      "execution_count": 12,
      "outputs": [
        {
          "output_type": "stream",
          "name": "stdout",
          "text": [
            "{'first_name': 'Humayun', 'last_name': 'Kabir', 'age': 25}\n"
          ]
        }
      ]
    },
    {
      "cell_type": "code",
      "source": [],
      "metadata": {
        "id": "uvcnYWgux4oS"
      },
      "execution_count": 12,
      "outputs": []
    },
    {
      "cell_type": "markdown",
      "source": [
        "**Data Modelling**"
      ],
      "metadata": {
        "id": "kTKiBuRox8YZ"
      }
    },
    {
      "cell_type": "code",
      "source": [
        "playlist = {\n",
        "    'title': \"Patagonia Bus\",\n",
        "    'author': \"Humayun\",\n",
        "    'songs': [\n",
        "        {\n",
        "            'song_title': \"Song One\",\n",
        "            'artist': ['Artist 1', 'Artist 2'],\n",
        "            'duration': 4.31,\n",
        "        },\n",
        "        {\n",
        "            'song_title': \"Song Two\",\n",
        "            'artist': ['Artist 1'],\n",
        "            'duration': 2.53,\n",
        "        },\n",
        "        {\n",
        "            'song_title': \"Song Three\",\n",
        "            'artist': ['Artist 1', 'Artist 2', 'Artist 3'],\n",
        "            'duration': 3.43,\n",
        "        }\n",
        "    ]\n",
        "}\n",
        "\n"
      ],
      "metadata": {
        "id": "eZG382LEx_Lq"
      },
      "execution_count": 13,
      "outputs": []
    },
    {
      "cell_type": "code",
      "source": [
        "total_duration = 0.0\n",
        "for song in playlist['songs']:\n",
        "    total_duration += song['duration']\n",
        "    print(song['song_title'])\n",
        "print(total_duration)"
      ],
      "metadata": {
        "colab": {
          "base_uri": "https://localhost:8080/"
        },
        "id": "Qzu4zItSyCJK",
        "outputId": "2a18e3cc-6971-40bc-f3bf-9bb55573cbcf"
      },
      "execution_count": 14,
      "outputs": [
        {
          "output_type": "stream",
          "name": "stdout",
          "text": [
            "Song One\n",
            "Song Two\n",
            "Song Three\n",
            "10.27\n"
          ]
        }
      ]
    },
    {
      "cell_type": "code",
      "source": [],
      "metadata": {
        "id": "0_9swCaGyERy"
      },
      "execution_count": 14,
      "outputs": []
    },
    {
      "cell_type": "markdown",
      "source": [
        "**Dict Comprehension**"
      ],
      "metadata": {
        "id": "_HVD0TI0yLmL"
      }
    },
    {
      "cell_type": "code",
      "source": [
        "nums = {\n",
        "    'a': 1,\n",
        "    'b': 2,\n",
        "    'c': 3\n",
        "}\n"
      ],
      "metadata": {
        "id": "WCd1OS4XyPpS"
      },
      "execution_count": 15,
      "outputs": []
    },
    {
      "cell_type": "code",
      "source": [
        "sq_nums = {key: value **2 for key, value in nums.items()}\n",
        "print(sq_nums)\n",
        "\n"
      ],
      "metadata": {
        "colab": {
          "base_uri": "https://localhost:8080/"
        },
        "id": "OprpUl-fyQva",
        "outputId": "5972a82d-a352-4753-d202-70580a6a7e75"
      },
      "execution_count": 16,
      "outputs": [
        {
          "output_type": "stream",
          "name": "stdout",
          "text": [
            "{'a': 1, 'b': 4, 'c': 9}\n"
          ]
        }
      ]
    },
    {
      "cell_type": "code",
      "source": [
        "sq_numbers = {num: num**2 for num in [1, 2, 3, 4, 5]}\n",
        "print(sq_numbers)\n",
        "\n"
      ],
      "metadata": {
        "colab": {
          "base_uri": "https://localhost:8080/"
        },
        "id": "DDye9H6PyR2j",
        "outputId": "aef17050-f213-43a5-d24d-94645d401ec7"
      },
      "execution_count": 17,
      "outputs": [
        {
          "output_type": "stream",
          "name": "stdout",
          "text": [
            "{1: 1, 2: 4, 3: 9, 4: 16, 5: 25}\n"
          ]
        }
      ]
    },
    {
      "cell_type": "code",
      "source": [
        "str1 = 'ABC'\n",
        "str2 = '123'\n",
        "combo = {str1[i]:str2[i] for i in range(0, len(str1))}\n",
        "print(combo)\n"
      ],
      "metadata": {
        "colab": {
          "base_uri": "https://localhost:8080/"
        },
        "id": "PoBJmsCfyWC6",
        "outputId": "cdb61b98-3ce2-4129-de00-db953106ab28"
      },
      "execution_count": 18,
      "outputs": [
        {
          "output_type": "stream",
          "name": "stdout",
          "text": [
            "{'A': '1', 'B': '2', 'C': '3'}\n"
          ]
        }
      ]
    },
    {
      "cell_type": "code",
      "source": [
        "\n",
        "num_list = [1, 2, 3, 4, 5, 6]\n",
        "parity = {num:(\"even\" if num % 2 == 0 else \"odd\") for num in num_list}\n",
        "print(parity)"
      ],
      "metadata": {
        "colab": {
          "base_uri": "https://localhost:8080/"
        },
        "id": "_KcUIFk0yXXK",
        "outputId": "cfcbcd25-1c10-4325-cc10-b2e487d59aaf"
      },
      "execution_count": 19,
      "outputs": [
        {
          "output_type": "stream",
          "name": "stdout",
          "text": [
            "{1: 'odd', 2: 'even', 3: 'odd', 4: 'even', 5: 'odd', 6: 'even'}\n"
          ]
        }
      ]
    },
    {
      "cell_type": "code",
      "source": [],
      "metadata": {
        "id": "AoSAX5JyyZFK"
      },
      "execution_count": 19,
      "outputs": []
    }
  ]
}