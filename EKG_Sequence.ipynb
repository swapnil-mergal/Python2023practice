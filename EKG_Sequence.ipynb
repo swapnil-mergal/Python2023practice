{
  "nbformat": 4,
  "nbformat_minor": 0,
  "metadata": {
    "colab": {
      "provenance": [],
      "include_colab_link": true
    },
    "kernelspec": {
      "name": "python3",
      "display_name": "Python 3"
    },
    "language_info": {
      "name": "python"
    }
  },
  "cells": [
    {
      "cell_type": "markdown",
      "metadata": {
        "id": "view-in-github",
        "colab_type": "text"
      },
      "source": [
        "<a href=\"https://colab.research.google.com/github/swapnil-mergal/Python2023practice/blob/main/EKG_Sequence.ipynb\" target=\"_parent\"><img src=\"https://colab.research.google.com/assets/colab-badge.svg\" alt=\"Open In Colab\"/></a>"
      ]
    },
    {
      "cell_type": "code",
      "execution_count": 8,
      "metadata": {
        "colab": {
          "base_uri": "https://localhost:8080/"
        },
        "id": "ZXgCo5TwBszg",
        "outputId": "51c62446-23fb-4b52-ac00-a90c7d37c387"
      },
      "outputs": [
        {
          "name": "stdout",
          "output_type": "stream",
          "text": [
            "Enter a number less than 100 in the EKG sequence5\n"
          ]
        }
      ],
      "source": [
        "n=int(input(\"Enter a number less than 100 in the EKG sequence\"))\n",
        "list1=[x+1 for x in range(2,600)]\n"
      ]
    },
    {
      "cell_type": "code",
      "source": [
        "def gcd(num1,num2):\n",
        "  gcd = 1\n",
        "  for i in range(1, min(num1, num2)+1):\n",
        "    if num1 % i == 0 and num2 % i == 0:\n",
        "      gcd = i\n",
        "  return gcd"
      ],
      "metadata": {
        "id": "_lera6qBBxL6"
      },
      "execution_count": 9,
      "outputs": []
    },
    {
      "cell_type": "code",
      "source": [
        "\n",
        "seq=[1,2]\n",
        "while len(list1)>0:\n",
        "  for i in list1:\n",
        "\n",
        "    if gcd(i,seq[-1])>1:\n",
        "      seq.append(i)\n",
        "      list1.remove(i)\n",
        "      break\n",
        "  if n==seq[-1]:\n",
        "    break"
      ],
      "metadata": {
        "id": "f-zAo_PqBvd0"
      },
      "execution_count": 10,
      "outputs": []
    },
    {
      "cell_type": "code",
      "source": [
        "print(\"ecg seqencce index (\",n,\")\", len(seq)-1) # is the index\n",
        "print(seq)"
      ],
      "metadata": {
        "colab": {
          "base_uri": "https://localhost:8080/"
        },
        "id": "iej7PrvNB39X",
        "outputId": "5bff350c-509a-46cf-d61c-4506fc277370"
      },
      "execution_count": 11,
      "outputs": [
        {
          "output_type": "stream",
          "name": "stdout",
          "text": [
            "ecg seqencce index ( 5 ) 9\n",
            "[1, 2, 4, 6, 3, 9, 12, 8, 10, 5]\n"
          ]
        }
      ]
    }
  ]
}