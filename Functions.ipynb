{
  "nbformat": 4,
  "nbformat_minor": 0,
  "metadata": {
    "colab": {
      "provenance": [],
      "include_colab_link": true
    },
    "kernelspec": {
      "name": "python3",
      "display_name": "Python 3"
    },
    "language_info": {
      "name": "python"
    }
  },
  "cells": [
    {
      "cell_type": "markdown",
      "metadata": {
        "id": "view-in-github",
        "colab_type": "text"
      },
      "source": [
        "<a href=\"https://colab.research.google.com/github/swapnil-mergal/Python2023practice/blob/main/Functions.ipynb\" target=\"_parent\"><img src=\"https://colab.research.google.com/assets/colab-badge.svg\" alt=\"Open In Colab\"/></a>"
      ]
    },
    {
      "cell_type": "code",
      "execution_count": 1,
      "metadata": {
        "colab": {
          "base_uri": "https://localhost:8080/"
        },
        "id": "YuuW4b7nyuhM",
        "outputId": "47bf0a4d-9fc8-4885-d89f-43890d5d3c55"
      },
      "outputs": [
        {
          "output_type": "stream",
          "name": "stdout",
          "text": [
            "Happy BirthDay\n",
            "16\n"
          ]
        }
      ],
      "source": [
        "def wish_birthday():\n",
        "    print(\"Happy BirthDay\")\n",
        "\n",
        "\n",
        "wish_birthday()\n",
        "\n",
        "\n",
        "def square_number(number):\n",
        "    return number * number\n",
        "\n",
        "\n",
        "val = square_number(4)\n",
        "print(val)"
      ]
    },
    {
      "cell_type": "code",
      "source": [
        "l1=[x for x in range(1,10)]\n",
        "l2=list(map(square_number,l1))\n",
        "print(l2)"
      ],
      "metadata": {
        "colab": {
          "base_uri": "https://localhost:8080/"
        },
        "id": "IU610_vlxfjN",
        "outputId": "e1284e82-3534-4243-9c8e-da2ffaf7b951"
      },
      "execution_count": 2,
      "outputs": [
        {
          "output_type": "stream",
          "name": "stdout",
          "text": [
            "[1, 4, 9, 16, 25, 36, 49, 64, 81]\n"
          ]
        }
      ]
    },
    {
      "cell_type": "code",
      "source": [
        "#          lambda argument(s) : expression\n",
        "greet = lambda : print('Welcome to AM609 class')"
      ],
      "metadata": {
        "id": "0p0jxaFfzysW"
      },
      "execution_count": 3,
      "outputs": []
    },
    {
      "cell_type": "code",
      "source": [
        "# call the lambda\n",
        "greet()"
      ],
      "metadata": {
        "colab": {
          "base_uri": "https://localhost:8080/"
        },
        "id": "WHQ1MDiIz8V6",
        "outputId": "aadbf950-713e-4480-f261-3b669d52d51f"
      },
      "execution_count": 4,
      "outputs": [
        {
          "output_type": "stream",
          "name": "stdout",
          "text": [
            "Welcome to AM609 class\n"
          ]
        }
      ]
    },
    {
      "cell_type": "code",
      "source": [
        "# lambda that accepts one argument\n",
        "userclass = lambda name : print('This class is ', name)\n",
        "\n",
        "# lambda call\n",
        "userclass('DSTT AM609')"
      ],
      "metadata": {
        "colab": {
          "base_uri": "https://localhost:8080/"
        },
        "id": "3w2170ah0Jzo",
        "outputId": "7950d8be-b10e-4d75-f269-e812d2facc4a"
      },
      "execution_count": 5,
      "outputs": [
        {
          "output_type": "stream",
          "name": "stdout",
          "text": [
            "This class is  DSTT AM609\n"
          ]
        }
      ]
    },
    {
      "cell_type": "code",
      "source": [
        "numbers = (1, 2, 3, 4)\n",
        "result = list(map(lambda x: x*x, numbers))\n",
        "print(result)"
      ],
      "metadata": {
        "colab": {
          "base_uri": "https://localhost:8080/"
        },
        "id": "yIotnNr4yN5x",
        "outputId": "0962b819-914f-4229-9eb9-540d41c8abec"
      },
      "execution_count": 6,
      "outputs": [
        {
          "output_type": "stream",
          "name": "stdout",
          "text": [
            "[1, 4, 9, 16]\n"
          ]
        }
      ]
    },
    {
      "cell_type": "code",
      "source": [
        "num1 = [4, 5, 6]\n",
        "num2 = [5, 6, 7]\n",
        "\n",
        "result = map(lambda n1, n2: n1+n2, num1, num2)\n",
        "print(list(result))"
      ],
      "metadata": {
        "colab": {
          "base_uri": "https://localhost:8080/"
        },
        "id": "sMLcDzPOyhqu",
        "outputId": "f41384a9-c15f-4c00-bcdd-de59bf8ee859"
      },
      "execution_count": 7,
      "outputs": [
        {
          "output_type": "stream",
          "name": "stdout",
          "text": [
            "[9, 11, 13]\n"
          ]
        }
      ]
    },
    {
      "cell_type": "code",
      "source": [
        "num1 = [4, 5, 6, 10, 12, 15 ,99,100,1,21 ]\n",
        "\n",
        "divby5=list(filter(lambda x: x%5==0,num1))\n",
        "print(divby5)\n",
        "\n"
      ],
      "metadata": {
        "colab": {
          "base_uri": "https://localhost:8080/"
        },
        "id": "Tv4lfL4-zOaA",
        "outputId": "63130582-639b-4f30-bdc6-957bafb2adf0"
      },
      "execution_count": 8,
      "outputs": [
        {
          "output_type": "stream",
          "name": "stdout",
          "text": [
            "[5, 10, 15, 100]\n"
          ]
        }
      ]
    },
    {
      "cell_type": "code",
      "source": [
        "#reduce\n",
        "from functools import reduce\n",
        "\n",
        "letters=['A','M','6','0','9']\n",
        "result=reduce(lambda x,y,:x+y,letters)\n",
        "print(result)"
      ],
      "metadata": {
        "colab": {
          "base_uri": "https://localhost:8080/"
        },
        "id": "iUzTEytc0vFs",
        "outputId": "4eb7a3f2-f6e7-4ea4-d9c5-c4460b0869c0"
      },
      "execution_count": 9,
      "outputs": [
        {
          "output_type": "stream",
          "name": "stdout",
          "text": [
            "AM609\n"
          ]
        }
      ]
    },
    {
      "cell_type": "code",
      "source": [
        "def foo(x,y):\n",
        "  def bar(z):\n",
        "    return z*2\n",
        "  return bar(x) + y"
      ],
      "metadata": {
        "id": "oEhXc8ee4yCv"
      },
      "execution_count": 10,
      "outputs": []
    },
    {
      "cell_type": "code",
      "source": [
        "foo(2,3)"
      ],
      "metadata": {
        "colab": {
          "base_uri": "https://localhost:8080/"
        },
        "id": "SfgcP7v04_eW",
        "outputId": "e8b86f00-1a46-44a1-ccc9-abb6a9a18479"
      },
      "execution_count": 11,
      "outputs": [
        {
          "output_type": "execute_result",
          "data": {
            "text/plain": [
              "7"
            ]
          },
          "metadata": {},
          "execution_count": 11
        }
      ]
    },
    {
      "cell_type": "code",
      "source": [
        "from random import random\n",
        "\n",
        "\n",
        "def flip_coin():\n",
        "    rand = random()\n",
        "    if rand >= 0.5:\n",
        "        return \"Heads\"\n",
        "    else:\n",
        "        return \"Tails\"\n",
        "\n",
        "\n",
        "# function ovverriding\n",
        "def flip_coin():\n",
        "    if random() >= 0.5:\n",
        "        return \"HEADS\"\n",
        "    else:\n",
        "        return \"TAILS\"\n",
        "\n",
        "\n",
        "print(flip_coin())\n",
        "print(flip_coin())\n",
        "print(flip_coin())\n",
        "print(flip_coin())"
      ],
      "metadata": {
        "colab": {
          "base_uri": "https://localhost:8080/"
        },
        "id": "EfAJOcxqyw2k",
        "outputId": "3175a196-324d-4a75-8fcf-698be47d71cf"
      },
      "execution_count": 12,
      "outputs": [
        {
          "output_type": "stream",
          "name": "stdout",
          "text": [
            "HEADS\n",
            "TAILS\n",
            "HEADS\n",
            "HEADS\n"
          ]
        }
      ]
    },
    {
      "cell_type": "code",
      "source": [
        "def add(a, b):\n",
        "    return a + b\n",
        "\n",
        "print(add(3, 4))\n",
        "\n",
        "\n",
        "def full_name(first_name, last_name):\n",
        "    print(f\"Your Name is {first_name} {last_name}\")\n",
        "\n",
        "full_name(\"Humayun\", \"Kabir\")"
      ],
      "metadata": {
        "colab": {
          "base_uri": "https://localhost:8080/"
        },
        "id": "wzaDIK_my3nr",
        "outputId": "e450ffe8-d5fb-4cca-e177-bfc2cde22b51"
      },
      "execution_count": 13,
      "outputs": [
        {
          "output_type": "stream",
          "name": "stdout",
          "text": [
            "7\n",
            "Your Name is Humayun Kabir\n"
          ]
        }
      ]
    },
    {
      "cell_type": "code",
      "source": [
        "def exponent(num, power=2):     # default parameter\n",
        "    return num ** power\n",
        "\n",
        "\n",
        "print(exponent(3, 2))\n",
        "print(exponent(4))\n",
        "print(exponent(5))\n",
        "# keyword arguements\n",
        "print(exponent(power=3, num=4))\n",
        "\n",
        "\n",
        "def add(a, b):\n",
        "    return a + b\n",
        "\n",
        "\n",
        "def subtract(a, b):\n",
        "    return abs(a-b)\n",
        "\n",
        "\n",
        "def math(a, b, fn = add):\n",
        "    return fn(a, b)\n",
        "\n",
        "\n",
        "print(math(3, 4))\n",
        "func = add\n",
        "print(math(3, 4, func))\n",
        "func = subtract\n",
        "print(math(3, 4, func))"
      ],
      "metadata": {
        "colab": {
          "base_uri": "https://localhost:8080/"
        },
        "id": "12rsg1Oiy5mq",
        "outputId": "5a934e55-7d9e-4393-e4a4-f3a6c6a205f2"
      },
      "execution_count": 14,
      "outputs": [
        {
          "output_type": "stream",
          "name": "stdout",
          "text": [
            "9\n",
            "16\n",
            "25\n",
            "64\n",
            "7\n",
            "7\n",
            "1\n"
          ]
        }
      ]
    },
    {
      "cell_type": "code",
      "source": [
        "def sum_all(num1, num2, num3):\n",
        "    return num1+num2+num3\n",
        "\n",
        "\n",
        "def sum_all(*args):\n",
        "    total = 0\n",
        "    for num in args:\n",
        "        total += num\n",
        "    return total\n",
        "\n",
        "\n",
        "print(sum_all(4, 6, 7))\n",
        "print(sum_all(4, 6, 7, 2, 7, 12, 15, 32))"
      ],
      "metadata": {
        "colab": {
          "base_uri": "https://localhost:8080/"
        },
        "id": "NZZ3B1EHy8jq",
        "outputId": "9f64d15f-0ef0-4b33-e84c-c30e6039c7dc"
      },
      "execution_count": 15,
      "outputs": [
        {
          "output_type": "stream",
          "name": "stdout",
          "text": [
            "17\n",
            "85\n"
          ]
        }
      ]
    },
    {
      "cell_type": "code",
      "source": [
        "def fav_colors(**kwargs):\n",
        "    ''' kwargs comes as a dictionary '''\n",
        "    print(kwargs)\n",
        "    for person, color in kwargs.items():\n",
        "        print(f\"{person}'s favorite color is {color}\")\n",
        "\n",
        "fav_colors(sriju=\"red\", faizu=\"yellow\", kabir=\"black\")\n",
        "\n",
        "\n",
        "def special_greeting(**kwargs):\n",
        "    if \"David\" in kwargs and kwargs[\"David\"] == \"special\":\n",
        "        return \"You get a special greeting David\"\n",
        "    elif \"David\" in kwargs:\n",
        "        return f\"{kwargs['David']} David\"\n",
        "    return \"Not sure who is this\"\n",
        "\n",
        "print(special_greeting(David='Hello'))\n",
        "print(special_greeting(Bob='hey'))\n",
        "print(special_greeting(David='special'))"
      ],
      "metadata": {
        "colab": {
          "base_uri": "https://localhost:8080/"
        },
        "id": "9Z3jwbW3zFJ6",
        "outputId": "96a41207-5edf-4e89-98ca-71a1a4527551"
      },
      "execution_count": 16,
      "outputs": [
        {
          "output_type": "stream",
          "name": "stdout",
          "text": [
            "{'sriju': 'red', 'faizu': 'yellow', 'kabir': 'black'}\n",
            "sriju's favorite color is red\n",
            "faizu's favorite color is yellow\n",
            "kabir's favorite color is black\n",
            "Hello David\n",
            "Not sure who is this\n",
            "You get a special greeting David\n"
          ]
        }
      ]
    },
    {
      "cell_type": "code",
      "source": [
        "'''\n",
        "1. parameters\n",
        "2. *args\n",
        "3. default parameters\n",
        "4. **kwargs\n",
        "'''\n",
        "\n",
        "def display_info(a, b, *args, inst=\"Kabir\", **kwargs):\n",
        "    return [a, b, args, inst, kwargs]\n",
        "\n",
        "print(display_info(1, 2, 3, name=\"Humayun\", job=\"Teacher\"))\n",
        "'''\n",
        "a - 1\n",
        "b - 2\n",
        "args - (3,)\n",
        "inst - \"Kabir\"\n",
        "kwargs - {'name': \"Humayun\", 'job': \"Teacher\"\n",
        "'''"
      ],
      "metadata": {
        "colab": {
          "base_uri": "https://localhost:8080/",
          "height": 54
        },
        "id": "LtztTMLtzH0z",
        "outputId": "512f8fab-427d-40df-a093-6738289c5694"
      },
      "execution_count": 17,
      "outputs": [
        {
          "output_type": "stream",
          "name": "stdout",
          "text": [
            "[1, 2, (3,), 'Kabir', {'name': 'Humayun', 'job': 'Teacher'}]\n"
          ]
        },
        {
          "output_type": "execute_result",
          "data": {
            "text/plain": [
              "'\\na - 1\\nb - 2\\nargs - (3,)\\ninst - \"Kabir\"\\nkwargs - {\\'name\\': \"Humayun\", \\'job\\': \"Teacher\"\\n'"
            ],
            "application/vnd.google.colaboratory.intrinsic+json": {
              "type": "string"
            }
          },
          "metadata": {},
          "execution_count": 17
        }
      ]
    },
    {
      "cell_type": "code",
      "source": [
        "#UNPACK TUPLE\n",
        "def sum_all(*args):\n",
        "    print(args)\n",
        "    total = 0\n",
        "\n",
        "    for num in args:\n",
        "        total += num\n",
        "    print(total)\n",
        "\n",
        "\n",
        "nums = [1, 2, 3, 4, 5, 6]\n",
        "nums = (1, 2, 3, 4, 5, 6)\n",
        "\n",
        "sum_all(*nums)"
      ],
      "metadata": {
        "colab": {
          "base_uri": "https://localhost:8080/"
        },
        "id": "XPxzARiIzLgj",
        "outputId": "1f7eb5b2-2f60-4ff1-c30b-adfaa3ad9620"
      },
      "execution_count": 18,
      "outputs": [
        {
          "output_type": "stream",
          "name": "stdout",
          "text": [
            "(1, 2, 3, 4, 5, 6)\n",
            "21\n"
          ]
        }
      ]
    },
    {
      "cell_type": "code",
      "source": [
        "#unpack dictionary\n",
        "def display_name(first, second):\n",
        "    print(f\"{first} says hello to {second}\")\n",
        "\n",
        "\n",
        "name = {'first': \"Charlie\", 'second': \"Puth\"}\n",
        "# display_name(first=\"Charlie\", second=\"Puth\")\n",
        "display_name(**name)"
      ],
      "metadata": {
        "colab": {
          "base_uri": "https://localhost:8080/"
        },
        "id": "bn4PM4W0zbz7",
        "outputId": "88cf420a-6f7d-43cd-a445-15e310b10d4a"
      },
      "execution_count": 19,
      "outputs": [
        {
          "output_type": "stream",
          "name": "stdout",
          "text": [
            "Charlie says hello to Puth\n"
          ]
        }
      ]
    },
    {
      "cell_type": "code",
      "source": [
        "#labmdas\n",
        "def square(num): return num * num\n",
        "\n",
        "# lambda : annonymous function\n",
        "# only allow single expression, it is automatically returned\n",
        "square2 = lambda num: num * num\n",
        "\n",
        "add = lambda a, b : a + b\n",
        "\n",
        "print(square2(5))\n",
        "print(add(6, 7))\n",
        "print(type(square2))\n",
        "\n",
        "print(square.__name__)\n",
        "print(square2.__name__)\n",
        "print(add.__name__)"
      ],
      "metadata": {
        "colab": {
          "base_uri": "https://localhost:8080/"
        },
        "id": "8-77kGxKzgZC",
        "outputId": "24a1926a-0f50-4956-fc9e-1fdee1e28be6"
      },
      "execution_count": 20,
      "outputs": [
        {
          "output_type": "stream",
          "name": "stdout",
          "text": [
            "25\n",
            "13\n",
            "<class 'function'>\n",
            "square\n",
            "<lambda>\n",
            "<lambda>\n"
          ]
        }
      ]
    },
    {
      "cell_type": "code",
      "source": [
        "#map\n",
        "\n",
        "nums = [1, 2, 3, 4, 5]\n",
        "double = map(lambda x: x * 2, nums)\n",
        "print(nums)\n",
        "print(double)\n",
        "for num in double:\n",
        "    print(num, end=' ')\n",
        "print()\n",
        "_double = list(map(lambda x: x * 2, nums))\n",
        "print(_double)\n",
        "\n",
        "people = [\"Darcy\", \"Christina\", \"Diana\"]\n",
        "peeps = list(map(lambda name: name.upper(), people))\n",
        "print(peeps)\n",
        "\n",
        "names = [\n",
        "    {'first': \"Rusty\", 'last': \"Steele\"},\n",
        "    {'first': \"Colt\", 'last': \"Steele\"},\n",
        "    {'first': \"Blue\", 'last': \"Steele\"}\n",
        "]\n",
        "\n",
        "first_names = list(map(lambda name : name['first'], names))\n",
        "\n",
        "print(names)\n",
        "print(first_names)"
      ],
      "metadata": {
        "colab": {
          "base_uri": "https://localhost:8080/"
        },
        "id": "68WG6f_Ozu36",
        "outputId": "9c8bc88c-cd57-4df0-a300-84fc41ce78fe"
      },
      "execution_count": 21,
      "outputs": [
        {
          "output_type": "stream",
          "name": "stdout",
          "text": [
            "[1, 2, 3, 4, 5]\n",
            "<map object at 0x782a76d91750>\n",
            "2 4 6 8 10 \n",
            "[2, 4, 6, 8, 10]\n",
            "['DARCY', 'CHRISTINA', 'DIANA']\n",
            "[{'first': 'Rusty', 'last': 'Steele'}, {'first': 'Colt', 'last': 'Steele'}, {'first': 'Blue', 'last': 'Steele'}]\n",
            "['Rusty', 'Colt', 'Blue']\n"
          ]
        }
      ]
    },
    {
      "cell_type": "code",
      "source": [
        "#filter\n",
        "\n",
        "nums = [1, 2, 3, 4, 5, 6]\n",
        "\n",
        "even = list(filter(lambda num : num % 2 == 0, nums))\n",
        "print(even)\n",
        "\n",
        "names = ['austin', 'penny', 'anthony', 'rihana', 'billy', 'angel']\n",
        "a_names = list(filter(lambda name: name[0] == 'a', names))\n",
        "print(a_names)"
      ],
      "metadata": {
        "colab": {
          "base_uri": "https://localhost:8080/"
        },
        "id": "22eCjwORzy4i",
        "outputId": "9106ffc2-a8a8-4d0a-f38f-ffd01ca5a309"
      },
      "execution_count": 22,
      "outputs": [
        {
          "output_type": "stream",
          "name": "stdout",
          "text": [
            "[2, 4, 6]\n",
            "['austin', 'anthony', 'angel']\n"
          ]
        }
      ]
    },
    {
      "cell_type": "code",
      "source": [
        "#filter map\n",
        "\n",
        "users =[\n",
        "    {'username': \"samuel\", 'tweets': [\"I love cake\", \"i love pie\"]},\n",
        "    {'username': \"katie\", 'tweets': [\"I love cat\"]},\n",
        "    {'username': \"jeff\", 'tweets': []},\n",
        "    {'username': \"bob123\", 'tweets': []},\n",
        "    {'username': \"dogg_luvre\", 'tweets': [\"Dogs are best\"]},\n",
        "    {'username': \"guiter_gal\", 'tweets': []}\n",
        "]\n",
        "inactive_users = list(filter(lambda user: not user['tweets'], users))\n",
        "print(inactive_users)\n",
        "\n",
        "inactive_profile = list(map(lambda u: u['username'],\n",
        "                        filter(lambda user: not user['tweets'], users)))\n",
        "print(inactive_users)\n",
        "print(inactive_profile)\n",
        "\n",
        "inactive_profile2 = [user['username'] for user in users if not user['tweets']]\n",
        "print(inactive_profile2)"
      ],
      "metadata": {
        "colab": {
          "base_uri": "https://localhost:8080/"
        },
        "id": "-Rn1TU9ez1tT",
        "outputId": "a8fe524f-832d-4e00-c4a8-3b1800e62927"
      },
      "execution_count": 23,
      "outputs": [
        {
          "output_type": "stream",
          "name": "stdout",
          "text": [
            "[{'username': 'jeff', 'tweets': []}, {'username': 'bob123', 'tweets': []}, {'username': 'guiter_gal', 'tweets': []}]\n",
            "[{'username': 'jeff', 'tweets': []}, {'username': 'bob123', 'tweets': []}, {'username': 'guiter_gal', 'tweets': []}]\n",
            "['jeff', 'bob123', 'guiter_gal']\n",
            "['jeff', 'bob123', 'guiter_gal']\n"
          ]
        }
      ]
    },
    {
      "cell_type": "code",
      "source": [
        "names = [\"Charlie\", \"Casey\", \"Codie\", \"Cristina\"]\n",
        "is_all_C = all([name[0] == 'C' for name in names])\n",
        "\n",
        "names_ = names\n",
        "names_.append(\"Draike\")\n",
        "is_any_not_C = any([name[0] != 'C' for name in names_])\n",
        "\n",
        "print(is_all_C)\n",
        "print(is_any_not_C)"
      ],
      "metadata": {
        "colab": {
          "base_uri": "https://localhost:8080/"
        },
        "id": "VdEarjE1z5oq",
        "outputId": "f596ab37-76b2-4bc3-c166-14264e7487b0"
      },
      "execution_count": 24,
      "outputs": [
        {
          "output_type": "stream",
          "name": "stdout",
          "text": [
            "True\n",
            "True\n"
          ]
        }
      ]
    },
    {
      "cell_type": "code",
      "source": [
        "#sorted\n",
        "\n",
        "nums = [16, 12, 3, 54, 5]\n",
        "\n",
        "print(sorted(nums))\n",
        "print(nums)\n",
        "nums.sort()\n",
        "print(nums)\n",
        "print(sorted(nums, reverse=True))\n",
        "\n",
        "users =[\n",
        "    {'username': \"samuel\", 'tweets': [\"I love cake\", \"i love pie\"]},\n",
        "    {'username': \"katie\", 'tweets': [\"I love cat\"]},\n",
        "    {'username': \"jeff\", 'tweets': []},\n",
        "    {'username': \"bob123\", 'tweets': []},\n",
        "    {'username': \"dogg_luvre\", 'tweets': [\"Dogs are best\"]},\n",
        "    {'username': \"guiter_gal\", 'tweets': []}\n",
        "]\n",
        "\n",
        "\n",
        "print(sorted(users, key=lambda user: user['username']))\n",
        "print(sorted(users, key=lambda user: len(user['tweets'])))"
      ],
      "metadata": {
        "colab": {
          "base_uri": "https://localhost:8080/"
        },
        "id": "oVMK94UNz9Dq",
        "outputId": "affa2b2e-b193-4a8b-9614-87a9645a49af"
      },
      "execution_count": 25,
      "outputs": [
        {
          "output_type": "stream",
          "name": "stdout",
          "text": [
            "[3, 5, 12, 16, 54]\n",
            "[16, 12, 3, 54, 5]\n",
            "[3, 5, 12, 16, 54]\n",
            "[54, 16, 12, 5, 3]\n",
            "[{'username': 'bob123', 'tweets': []}, {'username': 'dogg_luvre', 'tweets': ['Dogs are best']}, {'username': 'guiter_gal', 'tweets': []}, {'username': 'jeff', 'tweets': []}, {'username': 'katie', 'tweets': ['I love cat']}, {'username': 'samuel', 'tweets': ['I love cake', 'i love pie']}]\n",
            "[{'username': 'jeff', 'tweets': []}, {'username': 'bob123', 'tweets': []}, {'username': 'guiter_gal', 'tweets': []}, {'username': 'katie', 'tweets': ['I love cat']}, {'username': 'dogg_luvre', 'tweets': ['Dogs are best']}, {'username': 'samuel', 'tweets': ['I love cake', 'i love pie']}]\n"
          ]
        }
      ]
    },
    {
      "cell_type": "code",
      "source": [
        "#min max\n",
        "\n",
        "nums = [199, 34, 1, 763, 23, 1829, 29]\n",
        "tup = (199, 34, 1, 763, 23, 1829, 29)\n",
        "\n",
        "print(max(nums))\n",
        "print(min(nums))\n",
        "\n",
        "print(max(tup))\n",
        "print(min(tup))\n",
        "\n",
        "names = ['Arya', 'Samson', 'Dora', 'Tim', 'Olivander']\n",
        "print(min(names))\n",
        "print(max(names))\n",
        "ans = min(len(name) for name in names)\n",
        "print(ans)\n",
        "\n",
        "ans = min(names, key=lambda name: len(name))\n",
        "print(ans)\n",
        "ans = max(names, key=lambda name: len(name))\n",
        "print(ans)\n",
        "\n",
        "songs = [\n",
        "    {'title': \"Happy Birthday\", 'play_count': 1},\n",
        "    {'title': \"Survive\", 'play_count': 6},\n",
        "    {'title': \"YMCA\", 'play_count': 99},\n",
        "    {'title': \"Toxic\", 'play_count': 31},\n",
        "]\n",
        "print(min(songs, key=lambda song:song['play_count']))\n",
        "print(max(songs, key=lambda song:song['play_count']))\n",
        "print(min(songs, key=lambda song:song['play_count'])['title'])\n",
        "print(max(songs, key=lambda song:song['play_count'])['title'])"
      ],
      "metadata": {
        "colab": {
          "base_uri": "https://localhost:8080/"
        },
        "id": "GiMEMeSL0DYy",
        "outputId": "538840ca-2af0-4c6c-ea1a-07fbb42a064f"
      },
      "execution_count": 26,
      "outputs": [
        {
          "output_type": "stream",
          "name": "stdout",
          "text": [
            "1829\n",
            "1\n",
            "1829\n",
            "1\n",
            "Arya\n",
            "Tim\n",
            "3\n",
            "Tim\n",
            "Olivander\n",
            "{'title': 'Happy Birthday', 'play_count': 1}\n",
            "{'title': 'YMCA', 'play_count': 99}\n",
            "Happy Birthday\n",
            "YMCA\n"
          ]
        }
      ]
    },
    {
      "cell_type": "code",
      "source": [
        "#zip\n",
        "\n",
        "midterms = [80, 91, 78]\n",
        "finals = [98, 89, 53]\n",
        "students = ['dan', 'ang', 'kate']\n",
        "\n",
        "\n",
        "# returns dict with {student:highest score} USING DICT COMP\n",
        "# {'dan': 98, 'ang': 91, 'kate': 78}\n",
        "final_grades = {t[0]:max(t[1], t[2]) for t in zip(students, midterms, finals)}\n",
        "\n",
        "\n",
        "# returns dict with {student:highest score} (same thing as above) USING MAP+LAMBDA\n",
        "# {'dan': 98, 'ang': 91, 'kate': 78}\n",
        "final_grades = dict(\n",
        "\tzip(\n",
        "\t\tstudents,\n",
        "\t\tmap(\n",
        "\t\t\tlambda pair: max(pair),\n",
        "\t\t\tzip(midterms, finals)\n",
        "\t\t)\n",
        "\t)\n",
        ")\n",
        "\n",
        "# returns dict with student:average score\n",
        "# {'dan': 89.0, 'ang': 90.0, 'kate': 65.5}\n",
        "avg_grades = dict(\n",
        "\tzip(\n",
        "\t\tstudents,\n",
        "\t\tmap(\n",
        "\t\t\tlambda pair: ((pair[0]+pair[1])/2),\n",
        "\t\t\tzip(midterms, finals)\n",
        "\t\t)\n",
        "\t)\n",
        ")\n",
        "\n",
        "print(final_grades)\n",
        "print(avg_grades)"
      ],
      "metadata": {
        "colab": {
          "base_uri": "https://localhost:8080/"
        },
        "id": "DBCsbfRi0HMa",
        "outputId": "16e6ffd8-8a5f-463c-ea0b-80a5834bcab7"
      },
      "execution_count": 27,
      "outputs": [
        {
          "output_type": "stream",
          "name": "stdout",
          "text": [
            "{'dan': 98, 'ang': 91, 'kate': 78}\n",
            "{'dan': 89.0, 'ang': 90.0, 'kate': 65.5}\n"
          ]
        }
      ]
    },
    {
      "cell_type": "code",
      "source": [],
      "metadata": {
        "id": "PPUnvFMR0MHi"
      },
      "execution_count": 27,
      "outputs": []
    }
  ]
}