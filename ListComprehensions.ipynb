{
  "nbformat": 4,
  "nbformat_minor": 0,
  "metadata": {
    "colab": {
      "provenance": [],
      "include_colab_link": true
    },
    "kernelspec": {
      "name": "python3",
      "display_name": "Python 3"
    },
    "language_info": {
      "name": "python"
    }
  },
  "cells": [
    {
      "cell_type": "markdown",
      "metadata": {
        "id": "view-in-github",
        "colab_type": "text"
      },
      "source": [
        "<a href=\"https://colab.research.google.com/github/swapnil-mergal/Python2023practice/blob/main/ListComprehensions.ipynb\" target=\"_parent\"><img src=\"https://colab.research.google.com/assets/colab-badge.svg\" alt=\"Open In Colab\"/></a>"
      ]
    },
    {
      "cell_type": "code",
      "execution_count": 1,
      "metadata": {
        "id": "BiCvYpaStGLz"
      },
      "outputs": [],
      "source": [
        "nums = [1, 2, 3, 4]\n",
        "\n"
      ]
    },
    {
      "cell_type": "code",
      "source": [
        "nums = [x*10 for x in nums]\n",
        "\n",
        "print(nums)\n"
      ],
      "metadata": {
        "colab": {
          "base_uri": "https://localhost:8080/"
        },
        "id": "Q6UP9hPptLTU",
        "outputId": "e35b5f12-84c6-4cb3-8abd-9516963785ad"
      },
      "execution_count": 2,
      "outputs": [
        {
          "output_type": "stream",
          "name": "stdout",
          "text": [
            "[10, 20, 30, 40]\n"
          ]
        }
      ]
    },
    {
      "cell_type": "code",
      "source": [
        "print([x * 10 for x in nums])\n",
        "\n"
      ],
      "metadata": {
        "colab": {
          "base_uri": "https://localhost:8080/"
        },
        "id": "bjGj3LwvtMw7",
        "outputId": "9d021577-399b-4ea3-8499-5d88e65af148"
      },
      "execution_count": 3,
      "outputs": [
        {
          "output_type": "stream",
          "name": "stdout",
          "text": [
            "[100, 200, 300, 400]\n"
          ]
        }
      ]
    },
    {
      "cell_type": "code",
      "source": [
        "name = 'humayun'\n",
        "\n",
        "_name = [char.upper() for char in name]\n",
        "print(_name)\n",
        "\n"
      ],
      "metadata": {
        "colab": {
          "base_uri": "https://localhost:8080/"
        },
        "id": "lPecmMJ-tN9z",
        "outputId": "478dd002-8285-4f0b-eac0-1d0afd2041da"
      },
      "execution_count": 4,
      "outputs": [
        {
          "output_type": "stream",
          "name": "stdout",
          "text": [
            "['H', 'U', 'M', 'A', 'Y', 'U', 'N']\n"
          ]
        }
      ]
    },
    {
      "cell_type": "code",
      "source": [
        "friends = [\"sriju\", \"tani\", \"puja\"]\n",
        "\n",
        "print([friend[0].upper() for friend in friends])\n",
        "# print(my_friend)\n",
        "\n"
      ],
      "metadata": {
        "colab": {
          "base_uri": "https://localhost:8080/"
        },
        "id": "4geW08TotPi7",
        "outputId": "2b0d295e-8274-470a-b74c-62df11cd8622"
      },
      "execution_count": 5,
      "outputs": [
        {
          "output_type": "stream",
          "name": "stdout",
          "text": [
            "['S', 'T', 'P']\n"
          ]
        }
      ]
    },
    {
      "cell_type": "code",
      "source": [
        "numbers = range(1, 11)\n",
        "\n",
        "evens = [x for x in numbers if x % 2 == 0]\n",
        "odds  = [x for x in numbers if x % 2 == 1]\n",
        "print(evens)\n",
        "print(odds)\n",
        "\n"
      ],
      "metadata": {
        "colab": {
          "base_uri": "https://localhost:8080/"
        },
        "id": "ADqTH6chtRaz",
        "outputId": "087ac9be-19c7-4794-9187-c92e5919d672"
      },
      "execution_count": 6,
      "outputs": [
        {
          "output_type": "stream",
          "name": "stdout",
          "text": [
            "[2, 4, 6, 8, 10]\n",
            "[1, 3, 5, 7, 9]\n"
          ]
        }
      ]
    },
    {
      "cell_type": "code",
      "source": [
        "special = [x * 2 if x % 2 == 0 else x / 2 for x in numbers]\n",
        "print(special)"
      ],
      "metadata": {
        "colab": {
          "base_uri": "https://localhost:8080/"
        },
        "id": "BpNO8XdqtR9j",
        "outputId": "c74521cb-cd0f-4828-f822-d859e599b459"
      },
      "execution_count": 7,
      "outputs": [
        {
          "output_type": "stream",
          "name": "stdout",
          "text": [
            "[0.5, 4, 1.5, 8, 2.5, 12, 3.5, 16, 4.5, 20]\n"
          ]
        }
      ]
    },
    {
      "cell_type": "code",
      "source": [
        "maze = [\n",
        "    [1, 2, 3],\n",
        "    [4, 5, 6],\n",
        "    [7, 8, 9]\n",
        "]\n",
        "\n",
        "for row in maze:\n",
        "    for val in row:\n",
        "        print(val, end=' ')\n",
        "    print()\n",
        "print(maze[2][2])\n",
        "print()\n",
        "print()\n",
        "[[print(val) for val in row ] for row in maze]"
      ],
      "metadata": {
        "colab": {
          "base_uri": "https://localhost:8080/"
        },
        "id": "V0QxlVdmtURT",
        "outputId": "00a04aa8-b6d9-47a8-d57b-26a23b18b28e"
      },
      "execution_count": 8,
      "outputs": [
        {
          "output_type": "stream",
          "name": "stdout",
          "text": [
            "1 2 3 \n",
            "4 5 6 \n",
            "7 8 9 \n",
            "9\n",
            "\n",
            "\n",
            "1\n",
            "2\n",
            "3\n",
            "4\n",
            "5\n",
            "6\n",
            "7\n",
            "8\n",
            "9\n"
          ]
        },
        {
          "output_type": "execute_result",
          "data": {
            "text/plain": [
              "[[None, None, None], [None, None, None], [None, None, None]]"
            ]
          },
          "metadata": {},
          "execution_count": 8
        }
      ]
    },
    {
      "cell_type": "code",
      "source": [],
      "metadata": {
        "id": "_3H4wnUatY8b"
      },
      "execution_count": 8,
      "outputs": []
    }
  ]
}